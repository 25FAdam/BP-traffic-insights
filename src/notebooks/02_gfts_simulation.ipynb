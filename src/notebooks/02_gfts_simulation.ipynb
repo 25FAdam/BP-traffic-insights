{
 "cells": [
  {
   "cell_type": "code",
   "execution_count": 1,
   "id": "3f8f25b0",
   "metadata": {},
   "outputs": [],
   "source": [
    "import pandas as pd\n",
    "import folium\n",
    "from pathlib import Path\n",
    "from datetime import datetime"
   ]
  },
  {
   "cell_type": "code",
   "execution_count": 2,
   "id": "c375f98b",
   "metadata": {},
   "outputs": [],
   "source": [
    "gtfs_path = Path(\"..\") / \"data\" / \"raw\" / \"budapest_gtfs\""
   ]
  },
  {
   "cell_type": "code",
   "execution_count": 3,
   "id": "b80df097",
   "metadata": {},
   "outputs": [],
   "source": [
    "# Load GTFS core files\n",
    "stops = pd.read_csv(gtfs_path / \"stops.txt\")\n",
    "routes = pd.read_csv(gtfs_path / \"routes.txt\")\n",
    "trips = pd.read_csv(gtfs_path / \"trips.txt\")\n",
    "stop_times = pd.read_csv(gtfs_path / \"stop_times.txt\")"
   ]
  },
  {
   "cell_type": "code",
   "execution_count": 4,
   "id": "67f5703f",
   "metadata": {},
   "outputs": [],
   "source": [
    "# Filter for line 4 or 6 tram\n",
    "target_routes = routes[routes[\"route_short_name\"].isin([\"2\"])]\n",
    "target_route_ids = target_routes[\"route_id\"].tolist()"
   ]
  },
  {
   "cell_type": "code",
   "execution_count": 5,
   "id": "381949ab",
   "metadata": {},
   "outputs": [],
   "source": [
    "# Get a single trip from today's service\n",
    "target_trips = trips[trips[\"route_id\"].isin(target_route_ids)]\n",
    "sample_trip_id = target_trips.iloc[0][\"trip_id\"]"
   ]
  },
  {
   "cell_type": "code",
   "execution_count": 6,
   "id": "0bd260db",
   "metadata": {},
   "outputs": [],
   "source": [
    "# Get stop_times for that trip\n",
    "trip_stop_times = stop_times[stop_times[\"trip_id\"] == sample_trip_id].sort_values(\"stop_sequence\")"
   ]
  },
  {
   "cell_type": "code",
   "execution_count": 7,
   "id": "7727d3e3",
   "metadata": {},
   "outputs": [],
   "source": [
    "# Merge with stop coordinates\n",
    "trip_stops = pd.merge(trip_stop_times, stops, on=\"stop_id\")\n",
    "trip_stops[\"arrival_time\"] = pd.to_timedelta(trip_stops[\"arrival_time\"])"
   ]
  },
  {
   "cell_type": "code",
   "execution_count": 8,
   "id": "bc87e08f",
   "metadata": {},
   "outputs": [],
   "source": [
    "# Assume start of simulation is current time\n",
    "sim_start = datetime.now().replace(second=0, microsecond=0)\n",
    "first_stop_offset = trip_stops[\"arrival_time\"].iloc[0]\n",
    "trip_stops[\"sim_time\"] = [sim_start + (t - first_stop_offset) for t in trip_stops[\"arrival_time\"]]"
   ]
  },
  {
   "cell_type": "code",
   "execution_count": 9,
   "id": "d2faa2d8",
   "metadata": {},
   "outputs": [],
   "source": [
    "# Create base map\n",
    "start_coords = [trip_stops.iloc[0][\"stop_lat\"], trip_stops.iloc[0][\"stop_lon\"]]\n",
    "sim_map = folium.Map(location=start_coords, zoom_start=13)"
   ]
  },
  {
   "cell_type": "code",
   "execution_count": 10,
   "id": "5f8cc845",
   "metadata": {},
   "outputs": [],
   "source": [
    "# Plot all stops\n",
    "for _, row in trip_stops.iterrows():\n",
    "    folium.Marker(\n",
    "        location=[row[\"stop_lat\"], row[\"stop_lon\"]],\n",
    "        popup=f\"{row['stop_name']}<br>ETA: {row['sim_time'].strftime('%H:%M')}\",\n",
    "        icon=folium.Icon(color=\"blue\", icon=\"info-sign\")\n",
    "    ).add_to(sim_map)"
   ]
  },
  {
   "cell_type": "code",
   "execution_count": 11,
   "id": "249e62eb",
   "metadata": {},
   "outputs": [],
   "source": [
    "# Simulate vehicle icon moving along the stops (showing current location)\n",
    "# For demo, we'll place the marker at the stop that would match the current time\n",
    "now = datetime.now()\n",
    "closest_stop = trip_stops.iloc[(trip_stops[\"sim_time\"] - now).abs().argsort()[:1]]\n",
    "\n",
    "for _, row in closest_stop.iterrows():\n",
    "    folium.Marker(\n",
    "        location=[row[\"stop_lat\"], row[\"stop_lon\"]],\n",
    "        popup=f\"Vehicle now at: {row['stop_name']}<br>Time: {now.strftime('%H:%M')}\",\n",
    "        icon=folium.Icon(color=\"red\", icon=\"train\")\n",
    "    ).add_to(sim_map)"
   ]
  },
  {
   "cell_type": "code",
   "execution_count": 12,
   "id": "147d860b",
   "metadata": {},
   "outputs": [
    {
     "data": {
      "text/plain": [
       "'../maps/budapest_transportation_simulation.html'"
      ]
     },
     "execution_count": 12,
     "metadata": {},
     "output_type": "execute_result"
    }
   ],
   "source": [
    "# Save map\n",
    "map_path = \"../maps/budapest_transportation_simulation.html\"\n",
    "sim_map.save(map_path)\n",
    "map_path"
   ]
  },
  {
   "cell_type": "code",
   "execution_count": null,
   "id": "84129ff7",
   "metadata": {},
   "outputs": [],
   "source": []
  }
 ],
 "metadata": {
  "kernelspec": {
   "display_name": "Python 3",
   "language": "python",
   "name": "python3"
  },
  "language_info": {
   "codemirror_mode": {
    "name": "ipython",
    "version": 3
   },
   "file_extension": ".py",
   "mimetype": "text/x-python",
   "name": "python",
   "nbconvert_exporter": "python",
   "pygments_lexer": "ipython3",
   "version": "3.11.9"
  }
 },
 "nbformat": 4,
 "nbformat_minor": 5
}
