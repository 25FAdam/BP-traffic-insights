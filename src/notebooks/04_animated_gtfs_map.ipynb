{
 "cells": [
  {
   "cell_type": "code",
   "execution_count": 11,
   "id": "d8cf07bb",
   "metadata": {},
   "outputs": [],
   "source": [
    "import pandas as pd\n",
    "import folium\n",
    "from pathlib import Path\n",
    "from datetime import datetime, timedelta"
   ]
  },
  {
   "cell_type": "code",
   "execution_count": 12,
   "id": "acea88c5",
   "metadata": {},
   "outputs": [],
   "source": [
    "# ---------- 1. Load GTFS core files ----------\n",
    "gtfs_path = Path(\"..\") / \"data\" / \"raw\" /\"budapest_gtfs\""
   ]
  },
  {
   "cell_type": "code",
   "execution_count": 13,
   "id": "61cca79c",
   "metadata": {},
   "outputs": [],
   "source": [
    "# -------------------- Load GTFS core tables --------------------\n",
    "stops = pd.read_csv(gtfs_path / \"stops.txt\")\n",
    "trips = pd.read_csv(gtfs_path / \"trips.txt\")\n",
    "stop_times = pd.read_csv(gtfs_path / \"stop_times.txt\")\n",
    "routes = pd.read_csv(gtfs_path / \"routes.txt\")"
   ]
  },
  {
   "cell_type": "code",
   "execution_count": 14,
   "id": "8e70971d",
   "metadata": {},
   "outputs": [],
   "source": [
    "# 2. Identify 3 busiest routes #\n",
    "st_with_route = stop_times.merge(trips[['trip_id', 'route_id']], on='trip_id', how='left')\n",
    "route_counts  = (st_with_route.groupby('route_id').size()\n",
    "                 .sort_values(ascending=False))\n",
    "top_route_ids = route_counts.head(3).index.tolist()\n",
    "\n",
    "if not top_route_ids:\n",
    "    raise ValueError(\"No route has stop_times in this GTFS feed!\")"
   ]
  },
  {
   "cell_type": "code",
   "execution_count": 15,
   "id": "33e7d99b",
   "metadata": {},
   "outputs": [],
   "source": [
    "# 3.  Pick first route with at least one usable trip + stop_times\n",
    "\n",
    "valid_trip_id  = None\n",
    "primary_route_id = None\n",
    "\n",
    "for rid in top_route_ids:\n",
    "    for tid in trips[trips['route_id'] == rid]['trip_id']:\n",
    "        if not stop_times[stop_times['trip_id'] == tid].empty:\n",
    "            valid_trip_id  = tid\n",
    "            primary_route_id = rid\n",
    "            break\n",
    "    if valid_trip_id:\n",
    "        break\n",
    "\n",
    "if valid_trip_id is None:\n",
    "    raise ValueError(\"Couldn’t find any trip_id with stop_times in the top routes.\")"
   ]
  },
  {
   "cell_type": "code",
   "execution_count": 16,
   "id": "c5142999",
   "metadata": {},
   "outputs": [],
   "source": [
    "# 4.  Prepare stop sequence for the chosen trip\n",
    "\n",
    "trip_st = (stop_times[stop_times['trip_id'] == valid_trip_id]\n",
    "           .sort_values('stop_sequence')\n",
    "           .merge(stops[['stop_id', 'stop_lat', 'stop_lon']], on='stop_id', how='left'))\n",
    "\n",
    "def to_today(hms: str):\n",
    "    try:\n",
    "        h, m, s = map(int, hms.split(':'))\n",
    "        h = h % 24                     # wrap 24–47→0–23\n",
    "        base = datetime.now().replace(hour=0, minute=0, second=0, microsecond=0)\n",
    "        return base + timedelta(hours=h, minutes=m, seconds=s)\n",
    "    except:\n",
    "        return None\n",
    "\n",
    "trip_st['arrival_dt'] = trip_st['arrival_time'].astype(str).apply(to_today)\n",
    "trip_st = trip_st.dropna(subset=['arrival_dt'])\n",
    "if trip_st.empty:\n",
    "    raise ValueError(f\"No usable stop_times for trip {valid_trip_id}\")"
   ]
  },
  {
   "cell_type": "code",
   "execution_count": 17,
   "id": "8d571936",
   "metadata": {},
   "outputs": [],
   "source": [
    "# 5.  Simulate current vehicle position (last stop already passed)\n",
    "\n",
    "now = datetime.now()\n",
    "past = trip_st[trip_st['arrival_dt'] <= now]\n",
    "\n",
    "if past.empty:                     # vehicle hasn’t started yet → first stop\n",
    "    veh_lat, veh_lon = trip_st.iloc[0][['stop_lat', 'stop_lon']]\n",
    "    veh_stop         = trip_st.iloc[0]['stop_id']\n",
    "else:                              # vehicle underway → last completed stop\n",
    "    veh_lat, veh_lon = past.iloc[-1][['stop_lat', 'stop_lon']]\n",
    "    veh_stop         = past.iloc[-1]['stop_id']\n",
    "\n",
    "route_short = routes.loc[routes['route_id'] == primary_route_id,\n",
    "                         'route_short_name'].iloc[0]"
   ]
  },
  {
   "cell_type": "code",
   "execution_count": 18,
   "id": "d9963e9e",
   "metadata": {},
   "outputs": [],
   "source": [
    "# 6.  Build polylines for the top-3 routes (first valid trip per route)\n",
    "\n",
    "def route_coords(rid):\n",
    "    for tid in trips[trips['route_id'] == rid]['trip_id']:\n",
    "        seq = stop_times[stop_times['trip_id'] == tid]\n",
    "        if not seq.empty:\n",
    "            seq = (seq.sort_values('stop_sequence')\n",
    "                      .merge(stops[['stop_id', 'stop_lat', 'stop_lon']],\n",
    "                             on='stop_id'))\n",
    "            return seq[['stop_lat', 'stop_lon']].values.tolist()\n",
    "    return []\n",
    "\n",
    "route_lines = {rid: route_coords(rid) for rid in top_route_ids}"
   ]
  },
  {
   "cell_type": "code",
   "execution_count": 19,
   "id": "6518b231",
   "metadata": {},
   "outputs": [
    {
     "data": {
      "text/plain": [
       "<folium.map.Marker at 0x2c37e4e15d0>"
      ]
     },
     "execution_count": 19,
     "metadata": {},
     "output_type": "execute_result"
    }
   ],
   "source": [
    "# 7.  Create Folium map\n",
    "\n",
    "center = [47.4979, 19.0402]  # Budapest city center\n",
    "fmap   = folium.Map(location=center, zoom_start=12, tiles=\"CartoDB positron\")\n",
    "colors = [\"red\", \"blue\", \"green\"]\n",
    "\n",
    "for idx, rid in enumerate(top_route_ids):\n",
    "    coords = route_lines[rid]\n",
    "    if coords:\n",
    "        r_short = routes.loc[routes['route_id'] == rid,\n",
    "                             'route_short_name'].iloc[0]\n",
    "        folium.PolyLine(\n",
    "            coords,\n",
    "            color=colors[idx % len(colors)],\n",
    "            weight=3, opacity=0.8,\n",
    "            popup=f\"Route {r_short}\"\n",
    "        ).add_to(fmap)\n",
    "\n",
    "# vehicle marker\n",
    "folium.Marker(\n",
    "    location=[veh_lat, veh_lon],\n",
    "    popup=(f\"Simulated vehicle<br>\"\n",
    "           f\"Route {route_short}<br>\"\n",
    "           f\"Stop {veh_stop}<br>\"\n",
    "           f\"{now.strftime('%H:%M')}\"),\n",
    "    icon=folium.Icon(color=\"purple\", icon=\"train\", prefix=\"fa\")\n",
    ").add_to(fmap)"
   ]
  },
  {
   "cell_type": "code",
   "execution_count": 24,
   "id": "e18a76eb",
   "metadata": {},
   "outputs": [
    {
     "data": {
      "text/plain": [
       "'../maps/budapest_transport_live_sim.html'"
      ]
     },
     "execution_count": 24,
     "metadata": {},
     "output_type": "execute_result"
    }
   ],
   "source": [
    "# 8.  Save and display link\n",
    "\n",
    "\n",
    "map_path = \"../maps/budapest_transport_live_sim.html\"\n",
    "fmap.save(map_path)\n",
    "map_path"
   ]
  },
  {
   "cell_type": "code",
   "execution_count": null,
   "id": "1656d2ac",
   "metadata": {},
   "outputs": [],
   "source": []
  }
 ],
 "metadata": {
  "kernelspec": {
   "display_name": "Python 3",
   "language": "python",
   "name": "python3"
  },
  "language_info": {
   "codemirror_mode": {
    "name": "ipython",
    "version": 3
   },
   "file_extension": ".py",
   "mimetype": "text/x-python",
   "name": "python",
   "nbconvert_exporter": "python",
   "pygments_lexer": "ipython3",
   "version": "3.11.9"
  }
 },
 "nbformat": 4,
 "nbformat_minor": 5
}
