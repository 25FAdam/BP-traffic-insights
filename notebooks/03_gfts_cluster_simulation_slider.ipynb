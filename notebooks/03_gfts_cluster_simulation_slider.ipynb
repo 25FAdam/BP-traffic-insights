{
 "cells": [
  {
   "cell_type": "code",
   "execution_count": 15,
   "id": "b59de920",
   "metadata": {},
   "outputs": [],
   "source": [
    "import pandas as pd\n",
    "import numpy as np\n",
    "from pathlib import Path\n",
    "from sklearn.cluster import KMeans\n",
    "import matplotlib.pyplot as plt\n",
    "import folium\n",
    "from folium.plugins import TimestampedGeoJson\n",
    "import json\n",
    "from datetime import datetime, timedelta"
   ]
  },
  {
   "cell_type": "code",
   "execution_count": 16,
   "id": "8296f875",
   "metadata": {},
   "outputs": [],
   "source": [
    "# ---------- 1. Load GTFS core files ----------\n",
    "gtfs_path = Path(\"..\") / \"data\" / \"raw\" /\"budapest_gtfs\"\n",
    "stop_times = pd.read_csv(gtfs_path / \"stop_times.txt\")\n",
    "stops = pd.read_csv(gtfs_path / \"stops.txt\")"
   ]
  },
  {
   "cell_type": "code",
   "execution_count": 17,
   "id": "dd9eefe1",
   "metadata": {},
   "outputs": [],
   "source": [
    "# Filter valid lat/lon and arrival times\n",
    "stops = stops.dropna(subset=[\"stop_lat\", \"stop_lon\"])\n",
    "stop_times = stop_times[stop_times[\"arrival_time\"].notnull()]"
   ]
  },
  {
   "cell_type": "code",
   "execution_count": 18,
   "id": "19f28903",
   "metadata": {},
   "outputs": [],
   "source": [
    "# Apply clustering again to create proxy districts\n",
    "coords = stops[[\"stop_lat\", \"stop_lon\"]].values\n",
    "kmeans = KMeans(n_clusters=23, random_state=42, n_init='auto')\n",
    "stops[\"district_cluster\"] = kmeans.fit_predict(coords)"
   ]
  },
  {
   "cell_type": "code",
   "execution_count": 19,
   "id": "f2ccf2bd",
   "metadata": {},
   "outputs": [],
   "source": [
    "# Merge clusters into stop_times\n",
    "stop_times = stop_times.merge(stops[[\"stop_id\", \"stop_lat\", \"stop_lon\", \"district_cluster\"]], on=\"stop_id\", how=\"left\")"
   ]
  },
  {
   "cell_type": "code",
   "execution_count": 20,
   "id": "418f2680",
   "metadata": {},
   "outputs": [],
   "source": [
    "# Parse hour from arrival time for simplified timeline\n",
    "def to_hour(t):\n",
    "    try:\n",
    "        h = int(t.split(\":\")[0]) % 24\n",
    "        return h\n",
    "    except:\n",
    "        return None\n",
    "\n",
    "stop_times[\"hour\"] = stop_times[\"arrival_time\"].astype(str).apply(to_hour)\n",
    "stop_times = stop_times.dropna(subset=[\"hour\"])"
   ]
  },
  {
   "cell_type": "code",
   "execution_count": 21,
   "id": "63eeb658",
   "metadata": {},
   "outputs": [],
   "source": [
    "# Simulate timestamps for today with arrival hours\n",
    "base_date = datetime.today().replace(hour=0, minute=0, second=0, microsecond=0)\n",
    "stop_times[\"timestamp\"] = stop_times[\"hour\"].apply(lambda h: (base_date + timedelta(hours=int(h))).isoformat())"
   ]
  },
  {
   "cell_type": "code",
   "execution_count": 22,
   "id": "4869aab5",
   "metadata": {},
   "outputs": [],
   "source": [
    "# Group by cluster + hour for bubble sizes\n",
    "agg = (\n",
    "    stop_times.groupby([\"district_cluster\", \"hour\", \"stop_lat\", \"stop_lon\", \"timestamp\"])\n",
    "    .size()\n",
    "    .reset_index(name=\"visits\")\n",
    ")"
   ]
  },
  {
   "cell_type": "code",
   "execution_count": 23,
   "id": "be1c3ff1",
   "metadata": {},
   "outputs": [],
   "source": [
    "# Prepare GeoJSON features for Folium time slider\n",
    "features = []\n",
    "for _, row in agg.iterrows():\n",
    "    feature = {\n",
    "        \"type\": \"Feature\",\n",
    "        \"geometry\": {\n",
    "            \"type\": \"Point\",\n",
    "            \"coordinates\": [row[\"stop_lon\"], row[\"stop_lat\"]],\n",
    "        },\n",
    "        \"properties\": {\n",
    "            \"time\": row[\"timestamp\"],\n",
    "            \"style\": {\"color\": \"blue\"},\n",
    "            \"icon\": \"circle\",\n",
    "            \"iconstyle\": {\n",
    "                \"fillColor\": \"red\",\n",
    "                \"fillOpacity\": 0.5,\n",
    "                \"stroke\": \"true\",\n",
    "                \"radius\": min(10, row[\"visits\"] / 500)\n",
    "            },\n",
    "            \"popup\": f\"Cluster {int(row['district_cluster'])}, {int(row['visits'])} visits\"\n",
    "        }\n",
    "    }\n",
    "    features.append(feature)\n",
    "\n",
    "geojson = {\n",
    "    \"type\": \"FeatureCollection\",\n",
    "    \"features\": features\n",
    "}"
   ]
  },
  {
   "cell_type": "code",
   "execution_count": 24,
   "id": "e7c88952",
   "metadata": {},
   "outputs": [
    {
     "data": {
      "text/plain": [
       "<folium.plugins.timestamped_geo_json.TimestampedGeoJson at 0x182ae9c0d10>"
      ]
     },
     "execution_count": 24,
     "metadata": {},
     "output_type": "execute_result"
    }
   ],
   "source": [
    "# Create Folium map\n",
    "fmap = folium.Map(location=[47.4979, 19.0402], zoom_start=12)\n",
    "TimestampedGeoJson(\n",
    "    geojson,\n",
    "    period=\"PT1H\",\n",
    "    add_last_point=True,\n",
    "    auto_play=False,\n",
    "    loop=False,\n",
    "    max_speed=1,\n",
    "    loop_button=True,\n",
    "    date_options=\"YYYY-MM-DD HH:mm\",\n",
    "    time_slider_drag_update=True,\n",
    ").add_to(fmap)"
   ]
  },
  {
   "cell_type": "code",
   "execution_count": 25,
   "id": "86099f41",
   "metadata": {},
   "outputs": [
    {
     "data": {
      "text/plain": [
       "'../data/folium_cluster_time_slider.html'"
      ]
     },
     "execution_count": 25,
     "metadata": {},
     "output_type": "execute_result"
    }
   ],
   "source": [
    "# Save map\n",
    "map_path = \"../data/folium_cluster_time_slider.html\"\n",
    "fmap.save(map_path)\n",
    "map_path"
   ]
  },
  {
   "cell_type": "code",
   "execution_count": null,
   "id": "cb9a349a",
   "metadata": {},
   "outputs": [],
   "source": []
  }
 ],
 "metadata": {
  "kernelspec": {
   "display_name": "Python 3",
   "language": "python",
   "name": "python3"
  },
  "language_info": {
   "codemirror_mode": {
    "name": "ipython",
    "version": 3
   },
   "file_extension": ".py",
   "mimetype": "text/x-python",
   "name": "python",
   "nbconvert_exporter": "python",
   "pygments_lexer": "ipython3",
   "version": "3.11.9"
  }
 },
 "nbformat": 4,
 "nbformat_minor": 5
}
