{
 "cells": [
  {
   "cell_type": "code",
   "execution_count": null,
   "id": "59170ab8",
   "metadata": {},
   "outputs": [],
   "source": [
    "import pandas as pd\n",
    "import folium\n",
    "from collections import Counter\n",
    "from pathlib import Path"
   ]
  },
  {
   "cell_type": "code",
   "execution_count": 7,
   "id": "54d951a0",
   "metadata": {},
   "outputs": [],
   "source": [
    "gtfs_path = Path(\"..\") / \"data\" / \"raw\" / \"budapest_gtfs\""
   ]
  },
  {
   "cell_type": "code",
   "execution_count": 8,
   "id": "88702bef",
   "metadata": {},
   "outputs": [],
   "source": [
    "# Load GTFS core files\n",
    "stops = pd.read_csv(gtfs_path / \"stops.txt\")\n",
    "routes = pd.read_csv(gtfs_path / \"routes.txt\")\n",
    "trips = pd.read_csv(gtfs_path / \"trips.txt\")\n",
    "stop_times = pd.read_csv(gtfs_path / \"stop_times.txt\")"
   ]
  },
  {
   "cell_type": "code",
   "execution_count": 9,
   "id": "c2688cf1",
   "metadata": {},
   "outputs": [],
   "source": [
    "# Clean data\n",
    "stops = stops.dropna(subset=[\"stop_lat\", \"stop_lon\"])\n",
    "stops[\"stop_name\"] = stops[\"stop_name\"].str.strip()"
   ]
  },
  {
   "cell_type": "code",
   "execution_count": 10,
   "id": "f2100a86",
   "metadata": {},
   "outputs": [],
   "source": [
    "# Map all tram/bus stops in Budapest\n",
    "budapest_map = folium.Map(location=[47.4979, 19.0402], zoom_start=12)\n",
    "for _, row in stops.iterrows():\n",
    "    folium.CircleMarker(\n",
    "        location=[row[\"stop_lat\"], row[\"stop_lon\"]],\n",
    "        radius=2,\n",
    "        popup=row[\"stop_name\"],\n",
    "        color=\"blue\",\n",
    "        fill=True,\n",
    "        fill_opacity=0.5\n",
    "    ).add_to(budapest_map)"
   ]
  },
  {
   "cell_type": "code",
   "execution_count": null,
   "id": "ff6a11e8",
   "metadata": {},
   "outputs": [],
   "source": [
    "# Find a specific route, e.g., line 4-6 tram\n",
    "route_ids = routes[routes[\"route_short_name\"].isin([\"4\", \"6\"])][\"route_id\"].tolist()\n",
    "trips_4_6 = trips[trips[\"route_id\"].isin(route_ids)]\n",
    "stop_ids_4_6 = stop_times[stop_times[\"trip_id\"].isin(trips_4_6[\"trip_id\"])][\"stop_id\"].unique()\n",
    "stops_4_6 = stops[stops[\"stop_id\"].isin(stop_ids_4_6)]"
   ]
  },
  {
   "cell_type": "code",
   "execution_count": 12,
   "id": "76e38884",
   "metadata": {},
   "outputs": [],
   "source": [
    "# Add 4-6 tram stops to map in red\n",
    "for _, row in stops_4_6.iterrows():\n",
    "    folium.CircleMarker(\n",
    "        location=[row[\"stop_lat\"], row[\"stop_lon\"]],\n",
    "        radius=3,\n",
    "        popup=row[\"stop_name\"],\n",
    "        color=\"red\",\n",
    "        fill=True,\n",
    "        fill_opacity=0.8\n",
    "    ).add_to(budapest_map)"
   ]
  },
  {
   "cell_type": "code",
   "execution_count": 13,
   "id": "5180a6a9",
   "metadata": {},
   "outputs": [],
   "source": [
    "# Identify most connected stops (hubs) by counting stop_id occurrences in stop_times\n",
    "stop_counts = Counter(stop_times[\"stop_id\"])\n",
    "hub_data = pd.DataFrame(stop_counts.items(), columns=[\"stop_id\", \"count\"]).sort_values(by=\"count\", ascending=False)\n",
    "hubs = stops[stops[\"stop_id\"].isin(hub_data.head(10)[\"stop_id\"])]"
   ]
  },
  {
   "cell_type": "code",
   "execution_count": 14,
   "id": "39656525",
   "metadata": {},
   "outputs": [],
   "source": [
    "# Add hubs to map in green\n",
    "for _, row in hubs.iterrows():\n",
    "    folium.CircleMarker(\n",
    "        location=[row[\"stop_lat\"], row[\"stop_lon\"]],\n",
    "        radius=5,\n",
    "        popup=f\"{row['stop_name']} (hub)\",\n",
    "        color=\"green\",\n",
    "        fill=True,\n",
    "        fill_opacity=1.0\n",
    "    ).add_to(budapest_map)"
   ]
  },
  {
   "cell_type": "code",
   "execution_count": 23,
   "id": "f92eba92",
   "metadata": {},
   "outputs": [],
   "source": [
    "budapest_map.save(\"../data/budapest_transport_map.html\")"
   ]
  }
 ],
 "metadata": {
  "kernelspec": {
   "display_name": "Python 3",
   "language": "python",
   "name": "python3"
  },
  "language_info": {
   "codemirror_mode": {
    "name": "ipython",
    "version": 3
   },
   "file_extension": ".py",
   "mimetype": "text/x-python",
   "name": "python",
   "nbconvert_exporter": "python",
   "pygments_lexer": "ipython3",
   "version": "3.11.9"
  }
 },
 "nbformat": 4,
 "nbformat_minor": 5
}
